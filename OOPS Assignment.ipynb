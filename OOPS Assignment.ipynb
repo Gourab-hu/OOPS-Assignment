{
 "cells": [
  {
   "cell_type": "code",
   "execution_count": 3,
   "id": "322909fe-ef73-4971-b938-338afd1c151c",
   "metadata": {},
   "outputs": [],
   "source": [
    "                                              #practical questions\n",
    "#1.Create a parent class Animal with a method speak() that prints a generic message. Create a child class Dog \n",
    "that overrides the speak() method to print \"Bark!\"\n",
    "class Animal:\n",
    "    def speak(self):\n",
    "        print(\"I am a animal\")\n",
    "\n",
    "class Dog(Animal):\n",
    "    def speak(self):\n",
    "        print(\"Bark\")"
   ]
  },
  {
   "cell_type": "code",
   "execution_count": 11,
   "id": "420710e4-e8bd-437b-9e8f-4929dd580297",
   "metadata": {},
   "outputs": [
    {
     "name": "stdout",
     "output_type": "stream",
     "text": [
      "I am a animal\n"
     ]
    }
   ],
   "source": [
    "future_tiger = Animal()\n",
    "future_tiger.speak()"
   ]
  },
  {
   "cell_type": "code",
   "execution_count": 13,
   "id": "fe7c1fa9-f77a-42ab-820d-9e49c14b4cd8",
   "metadata": {},
   "outputs": [
    {
     "name": "stdout",
     "output_type": "stream",
     "text": [
      "Bark\n"
     ]
    }
   ],
   "source": [
    "future_dog = Dog()\n",
    "future_dog.speak()"
   ]
  },
  {
   "cell_type": "code",
   "execution_count": 15,
   "id": "cc9f3675-e07f-4597-b6cb-e26bc398426d",
   "metadata": {},
   "outputs": [
    {
     "name": "stdout",
     "output_type": "stream",
     "text": [
      "Area of circle: 78.54\n",
      "Area of rectangle: 24.00\n"
     ]
    }
   ],
   "source": [
    "#2.Write a program to create an abstract class Shape with a method area(). Derive classes Circle and Rectangle \n",
    "from abc import ABC, abstractmethod\n",
    "import math\n",
    "class Shape(ABC):\n",
    "    @abstractmethod\n",
    "    def area(self):\n",
    "        pass\n",
    "class Circle(Shape):\n",
    "    def __init__(self, radius):\n",
    "        self.radius = radius\n",
    "\n",
    "    def area(self):\n",
    "        return math.pi * self.radius ** 2\n",
    "        \n",
    "class Rectangle(Shape):\n",
    "    def __init__(self, width, height):\n",
    "        self.width = width\n",
    "        self.height = height\n",
    "\n",
    "    def area(self):\n",
    "        return self.width * self.height\n",
    "\n",
    "circle = Circle(5)\n",
    "rectangle = Rectangle(4, 6)\n",
    "\n",
    "print(f\"Area of circle: {circle.area():.2f}\")       \n",
    "print(f\"Area of rectangle: {rectangle.area():.2f}\") \n"
   ]
  },
  {
   "cell_type": "code",
   "execution_count": 17,
   "id": "0ee8cbe4-5e09-4395-b104-62ac08d2948d",
   "metadata": {},
   "outputs": [
    {
     "name": "stdout",
     "output_type": "stream",
     "text": [
      "Vehicle Type: Electric Vehicle\n",
      "Brand: Tesla\n",
      "Battery Capacity: 75 kWh\n"
     ]
    }
   ],
   "source": [
    "#3.Implement a multi-level inheritance scenario where a class Vehicle has an attribute type. Derive a class Car \n",
    "#and further derive a class elctric car that adds a battery attribute to it.\n",
    "class Vehicle:\n",
    "    def __init__(self, vehicle_type):\n",
    "        self.type = vehicle_type\n",
    "\n",
    "    def display_info(self):\n",
    "        print(f\"Vehicle Type: {self.type}\"\n",
    "              \n",
    "class Car(Vehicle):\n",
    "    def __init__(self, vehicle_type, brand):\n",
    "        super().__init__(vehicle_type)\n",
    "        self.brand = brand\n",
    "\n",
    "    def display_info(self):\n",
    "        super().display_info()\n",
    "        print(f\"Brand: {self.brand}\")\n",
    "\n",
    "class ElectricCar(Car):\n",
    "    def __init__(self, vehicle_type, brand, battery_capacity):\n",
    "        super().__init__(vehicle_type, brand)\n",
    "        self.battery = battery_capacity\n",
    "\n",
    "    def display_info(self):\n",
    "        super().display_info()\n",
    "        print(f\"Battery Capacity: {self.battery} kWh\")\n",
    "\n",
    "my_tesla = ElectricCar(\"Electric Vehicle\", \"Tesla\", 75)\n",
    "my_tesla.display_info()\n"
   ]
  },
  {
   "cell_type": "code",
   "execution_count": 21,
   "id": "4d42965f-64dc-4832-b844-6919b22b8baa",
   "metadata": {},
   "outputs": [],
   "source": [
    "#4.Demonstrate polymorphism by creating a base class Bird with a method fly(). Create two derived classes \n",
    "#Sparrow and Penguin that override the fly() method. \n",
    "class Bird:\n",
    "    def fly(self):\n",
    "        print(\"Bird is flying.\")\n",
    "\n",
    "class Sparrow(Bird):\n",
    "    def fly(self):\n",
    "        print(\"Sparrow is flying.\")\n",
    "\n",
    "class Penguin(Bird):\n",
    "    def fly(self):\n",
    "        print(\"Penguin cannot fly.\")\n",
    "\n",
    "\n",
    "def make_bird_fly(bird: Bird):\n",
    "    bird.fly()\n",
    "\n",
    "\n",
    "sparrow = Sparrow()\n",
    "penguin = Penguin()\n"
   ]
  },
  {
   "cell_type": "code",
   "execution_count": 49,
   "id": "d68b94c0-647c-471f-b890-dd21c917b1fb",
   "metadata": {},
   "outputs": [
    {
     "name": "stdout",
     "output_type": "stream",
     "text": [
      "Demonstrating Polymorphism:\n",
      "Sparrow is flying.\n",
      "Penguin cannot fly.\n"
     ]
    }
   ],
   "source": [
    "print(\"Demonstrating Polymorphism:\")\n",
    "make_bird_fly(sparrow)  \n",
    "make_bird_fly(penguin) "
   ]
  },
  {
   "cell_type": "code",
   "execution_count": 51,
   "id": "e6142db6-c97a-4921-b98b-698425ada2d6",
   "metadata": {},
   "outputs": [
    {
     "name": "stdout",
     "output_type": "stream",
     "text": [
      "Current Balance: $100\n",
      "Deposited: $50\n",
      "Withdrew: $30\n",
      "Current Balance: $120\n",
      "Insufficient funds or invalid amount.\n"
     ]
    }
   ],
   "source": [
    "#5.Write a program to demonstrate encapsulation by creating a class BankAccount with private attributes \n",
    "#balance and methods to deposit, withdraw, and check balance.\n",
    "class BankAccount:\n",
    "    def __init__(self, initial_balance=0):\n",
    "        self.__balance = initial_balance \n",
    "\n",
    "    \n",
    "    def deposit(self, amount):\n",
    "        if amount > 0:\n",
    "            self.__balance += amount\n",
    "            print(f\"Deposited: ${amount}\")\n",
    "        else:\n",
    "            print(\"Deposit amount must be positive.\")\n",
    "\n",
    "    def withdraw(self, amount):\n",
    "        if 0 < amount <= self.__balance:\n",
    "            self.__balance -= amount\n",
    "            print(f\"Withdrew: ${amount}\")\n",
    "        else:\n",
    "            print(\"Insufficient funds or invalid amount.\")\n",
    "\n",
    "    def check_balance(self):\n",
    "        print(f\"Current Balance: ${self.__balance}\")\n",
    "\n",
    "account = BankAccount(100)  \n",
    "account.check_balance()\n",
    "account.deposit(50)\n",
    "account.withdraw(30)\n",
    "account.check_balance()\n",
    "account.withdraw(150)  \n"
   ]
  },
  {
   "cell_type": "code",
   "execution_count": 57,
   "id": "8668693f-1275-471e-b547-f943ee2c9a00",
   "metadata": {},
   "outputs": [
    {
     "name": "stdout",
     "output_type": "stream",
     "text": [
      "Strumming the guitar.\n",
      "Playing the piano.\n"
     ]
    }
   ],
   "source": [
    "#6.Demonstrate runtime polymorphism using a method play() in a base class Instrument. Derive classes Guitar \n",
    "#and Piano that implement their own version of play()\n",
    "\n",
    "class Instrument:\n",
    "    def play(self):\n",
    "        print(\"Playing an instrument.\")\n",
    "\n",
    "class Guitar(Instrument):\n",
    "    def play(self):\n",
    "        print(\"Strumming the guitar.\")\n",
    "\n",
    "\n",
    "class Piano(Instrument):\n",
    "    def play(self):\n",
    "        print(\"Playing the piano.\")\n",
    "\n",
    "def perform(instrument):\n",
    "    instrument.play()  \n",
    "\n",
    "\n",
    "instrument1 = Guitar()\n",
    "instrument2 = Piano()\n",
    "\n",
    "perform(instrument1)\n",
    "perform(instrument2) \n"
   ]
  },
  {
   "cell_type": "code",
   "execution_count": 304,
   "id": "7fb451fe-dd8c-406e-bfc0-d91f254ddc21",
   "metadata": {},
   "outputs": [
    {
     "name": "stdout",
     "output_type": "stream",
     "text": [
      "Addition Result: 15\n",
      "Subtraction Result: 5\n"
     ]
    }
   ],
   "source": [
    "#7. Create a class MathOperations with a class method add_numbers() to add two numbers and a static \n",
    "#method subtract_numbers() to subtract two number\n",
    "class MathOperations:\n",
    "    @classmethod\n",
    "    def add_numbers(cls, a, b):\n",
    "        return a + b\n",
    "\n",
    "    \n",
    "    @staticmethod\n",
    "    def subtract_numbers(a, b):\n",
    "        return a - b\n",
    "\n",
    "\n",
    "result_add = MathOperations.add_numbers(10, 5)\n",
    "result_subtract = MathOperations.subtract_numbers(10, 5)\n",
    "\n",
    "print(f\"Addition Result: {result_add}\")       \n",
    "print(f\"Subtraction Result: {result_subtract}\")  \n"
   ]
  },
  {
   "cell_type": "code",
   "execution_count": 306,
   "id": "a27af800-f0cd-4543-8319-4d8f1c420010",
   "metadata": {},
   "outputs": [
    {
     "name": "stdout",
     "output_type": "stream",
     "text": [
      "Total persons created: 3\n"
     ]
    }
   ],
   "source": [
    "#8. Implement a class Person with a class method to count the total number of persons created\n",
    "class Person:\n",
    "    count = 0\n",
    "\n",
    "    def __init__(self, name):\n",
    "        self.name = name\n",
    "        Person.count += 1  \n",
    "\n",
    "    @classmethod\n",
    "    def total_persons(cls):\n",
    "        return cls.count\n",
    "\n",
    "\n",
    "p1 = Person(\"Alice\")\n",
    "p2 = Person(\"Bob\")\n",
    "p3 = Person(\"Charlie\")\n",
    "\n",
    "print(f\"Total persons created: {Person.total_persons()}\")\n"
   ]
  },
  {
   "cell_type": "code",
   "execution_count": 308,
   "id": "4ba685bf-6208-4a83-9fb8-7a17e79d7550",
   "metadata": {},
   "outputs": [
    {
     "name": "stdout",
     "output_type": "stream",
     "text": [
      "3/4\n",
      "7/2\n"
     ]
    }
   ],
   "source": [
    "#9.Write a class Fraction with attributes numerator and denominator. Override the str method to display the \n",
    "#fraction as \"numerator/denominator\".\n",
    "class Fraction:\n",
    "    def __init__(self, numerator, denominator):\n",
    "        self.numerator = numerator\n",
    "        self.denominator = denominator\n",
    "\n",
    "    # Override the __str__ method to return fraction as a string\n",
    "    def __str__(self):\n",
    "        return f\"{self.numerator}/{self.denominator}\"\n",
    "\n",
    "f1 = Fraction(3, 4)\n",
    "f2 = Fraction(7, 2)\n",
    "\n",
    "print(f1)  \n",
    "print(f2)  \n"
   ]
  },
  {
   "cell_type": "code",
   "execution_count": 310,
   "id": "27e3edc8-234e-4f57-9115-ad422f6449da",
   "metadata": {},
   "outputs": [
    {
     "name": "stdout",
     "output_type": "stream",
     "text": [
      "Vector(6, 8)\n"
     ]
    }
   ],
   "source": [
    "#10.Demonstrate operator overloading by creating a class Vector and overriding the add method to add two \n",
    "#vectors.\n",
    "class Vector:\n",
    "    def __init__(self, x, y):\n",
    "        self.x = x\n",
    "        self.y = y\n",
    "\n",
    "    \n",
    "    def __add__(self, other):\n",
    "        return Vector(self.x + other.x, self.y + other.y)\n",
    "\n",
    "    \n",
    "    def __str__(self):\n",
    "        return f\"Vector({self.x}, {self.y})\"\n",
    "\n",
    "\n",
    "v1 = Vector(2, 3)\n",
    "v2 = Vector(4, 5)\n",
    "\n",
    "v3 = v1 + v2  \n",
    "print(v3)     \n"
   ]
  },
  {
   "cell_type": "code",
   "execution_count": 312,
   "id": "8cc149b3-b9b5-4f69-9657-0294422f0910",
   "metadata": {},
   "outputs": [],
   "source": [
    "#11. Create a class Person with attributes name and age. Add a method greet() that prints \"Hello, my name is \n",
    "#{name} and I am {age} years old.\"\n",
    "class Person:\n",
    "    def __init__(self, name, age):\n",
    "        self.name = name\n",
    "        self.age = age\n",
    "    def greet(self):\n",
    "        print(f\"Hello my name is {self.name} and i am {self.age} years old\")"
   ]
  },
  {
   "cell_type": "code",
   "execution_count": 314,
   "id": "c3f97a71-508a-42aa-bae8-04f712e5c6b7",
   "metadata": {},
   "outputs": [],
   "source": [
    "person1 = Person(\"Alice\", 30)\n",
    "person2 = Person(\"Robot\", 22)"
   ]
  },
  {
   "cell_type": "code",
   "execution_count": 316,
   "id": "3753a73b-7d1d-4a8a-a895-41847dbaaf6b",
   "metadata": {},
   "outputs": [
    {
     "name": "stdout",
     "output_type": "stream",
     "text": [
      "Hello my name is Alice and i am 30 years old\n",
      "Hello my name is Robot and i am 22 years old\n"
     ]
    }
   ],
   "source": [
    "person1.greet()\n",
    "person2.greet()"
   ]
  },
  {
   "cell_type": "code",
   "execution_count": 318,
   "id": "78739eec-45a3-44cb-bdf0-1a837239a194",
   "metadata": {},
   "outputs": [],
   "source": [
    "#12. Implement a class Student with attributes name and grades. Create a method average_grade() to compute \n",
    "#the average of the grades.\n",
    "class Student:\n",
    "    def __init__(self, name, grades):\n",
    "        self.name = name\n",
    "        self.grades = grades\n",
    "    def average_grade(self):\n",
    "        if self.grades:\n",
    "            return sum(self.grades) / len(self.grades)\n",
    "        else:\n",
    "            return 0"
   ]
  },
  {
   "cell_type": "code",
   "execution_count": 320,
   "id": "1680e383-63d8-4e2e-b258-405012c49492",
   "metadata": {},
   "outputs": [],
   "source": [
    "student1 = Student(\"Gourav\", [90, 85, 87, 84, 99])\n",
    "student2 = Student(\"Takla\", [40, 80, 65, 72, 63])"
   ]
  },
  {
   "cell_type": "code",
   "execution_count": 322,
   "id": "4f4766f3-3fd9-4af5-97a1-a1e551af802d",
   "metadata": {},
   "outputs": [
    {
     "name": "stdout",
     "output_type": "stream",
     "text": [
      "Gourav's average grade: 89.00\n",
      "Takla's average grade: 64.00\n"
     ]
    }
   ],
   "source": [
    "print(f\"{student1.name}'s average grade: {student1.average_grade():.2f}\")\n",
    "print(f\"{student2.name}'s average grade: {student2.average_grade():.2f}\")"
   ]
  },
  {
   "cell_type": "code",
   "execution_count": 153,
   "id": "afa32975-44ec-4aca-9f44-d4ced576a08f",
   "metadata": {},
   "outputs": [
    {
     "name": "stdout",
     "output_type": "stream",
     "text": [
      "Area of rectangle: 15\n"
     ]
    }
   ],
   "source": [
    "#13. Create a class Rectangle with methods set_dimensions() to set the dimensions and area() to calculate the \n",
    "#area.\n",
    "class Rectangle:\n",
    "    def __init__(self):\n",
    "        self.length = 0\n",
    "        self.width = 0\n",
    "\n",
    "    def set_dimensions(self, length, width):\n",
    "        self.length = length\n",
    "        self.width = width\n",
    "    def area(self):\n",
    "        return self.length * self.width\n",
    "\n",
    "rect = Rectangle()\n",
    "rect.set_dimensions(5, 3)\n",
    "print(f\"Area of rectangle: {rect.area()}\")  \n"
   ]
  },
  {
   "cell_type": "code",
   "execution_count": 155,
   "id": "4d9e4ac9-edd8-45c7-86e2-f7466d18f28c",
   "metadata": {},
   "outputs": [
    {
     "name": "stdout",
     "output_type": "stream",
     "text": [
      "Alice's Salary: $800\n",
      "Bob's Salary: $1700\n"
     ]
    }
   ],
   "source": [
    "#14. Create a class Employee with a method calculate_salary() that computes the salary based on hours worked \n",
    "# and hourly rate. Create a derived class Manager that adds a bonus to the salary\n",
    "\n",
    "class Employee:\n",
    "    def __init__(self, name, hours_worked, hourly_rate):\n",
    "        self.name = name\n",
    "        self.hours_worked = hours_worked\n",
    "        self.hourly_rate = hourly_rate\n",
    "\n",
    "    def calculate_salary(self):\n",
    "        return self.hours_worked * self.hourly_rate\n",
    "\n",
    "class Manager(Employee):\n",
    "    def __init__(self, name, hours_worked, hourly_rate, bonus):\n",
    "        super().__init__(name, hours_worked, hourly_rate)\n",
    "        self.bonus = bonus\n",
    "\n",
    "    def calculate_salary(self):\n",
    "        base_salary = super().calculate_salary()\n",
    "        return base_salary + self.bonus\n",
    "\n",
    "emp = Employee(\"Alice\", 40, 20)\n",
    "mgr = Manager(\"Bob\", 40, 30, 500)\n",
    "\n",
    "print(f\"{emp.name}'s Salary: ${emp.calculate_salary()}\")     \n",
    "print(f\"{mgr.name}'s Salary: ${mgr.calculate_salary()}\")     \n"
   ]
  },
  {
   "cell_type": "code",
   "execution_count": 165,
   "id": "31ae14c0-6829-40b8-852f-d1e0779af3d8",
   "metadata": {},
   "outputs": [
    {
     "name": "stdout",
     "output_type": "stream",
     "text": [
      "Total price for Laptop: $3000\n"
     ]
    }
   ],
   "source": [
    "#15. Create a class Product with attributes name, price, and quantity. Implement a method total_price() that \n",
    "#calculates the total price of the product\n",
    "class Product:\n",
    "    def __init__(self, name, price, quantity):\n",
    "        self.name = name\n",
    "        self.price = price\n",
    "        self.quantity = quantity\n",
    "\n",
    "    def total_price(self):\n",
    "        return self.price * self.quantity\n",
    "\n",
    "p1 = Product(\"Laptop\", 1000, 3)\n",
    "print(f\"Total price for {p1.name}: ${p1.total_price()}\")\n"
   ]
  },
  {
   "cell_type": "code",
   "execution_count": 167,
   "id": "244959ca-0f11-4d76-a228-62f6caf426e9",
   "metadata": {},
   "outputs": [
    {
     "name": "stdout",
     "output_type": "stream",
     "text": [
      "Cow says: Moo\n",
      "Sheep says: Baa\n"
     ]
    }
   ],
   "source": [
    "#16. Create a class Animal with an abstract method sound(). Create two derived classes Cow and Sheep that \n",
    "#implement the sound() method.\n",
    "from abc import ABC, abstractmethod\n",
    "\n",
    "class Animal(ABC):\n",
    "    @abstractmethod\n",
    "    def sound(self):\n",
    "        pass\n",
    "\n",
    "class Cow(Animal):\n",
    "    def sound(self):\n",
    "        return \"Moo\"\n",
    "\n",
    "class Sheep(Animal):\n",
    "    def sound(self):\n",
    "        return \"Baa\"\n",
    "\n",
    "cow = Cow()\n",
    "sheep = Sheep()\n",
    "print(f\"Cow says: {cow.sound()}\")\n",
    "print(f\"Sheep says: {sheep.sound()}\")\n"
   ]
  },
  {
   "cell_type": "code",
   "execution_count": 169,
   "id": "929ea9bd-1f66-4afd-b8aa-5b48c163e338",
   "metadata": {},
   "outputs": [
    {
     "name": "stdout",
     "output_type": "stream",
     "text": [
      "'1984' by George Orwell (1949)\n"
     ]
    }
   ],
   "source": [
    "#17.Create a class Book with attributes title, author, and year_published. Add a method get_book_info() that returns a formatted string with book details\n",
    "class Book:\n",
    "    def __init__(self, title, author, year_published):\n",
    "        self.title = title\n",
    "        self.author = author\n",
    "        self.year_published = year_published\n",
    "\n",
    "    def get_book_info(self):\n",
    "        return f\"'{self.title}' by {self.author} ({self.year_published})\"\n",
    "\n",
    "\n",
    "book1 = Book(\"1984\", \"George Orwell\", 1949)\n",
    "print(book1.get_book_info())  # Output: '1984' by George Orwell (1949)\n"
   ]
  },
  {
   "cell_type": "code",
   "execution_count": 171,
   "id": "ac76c0e6-e639-4e0d-9d93-d1bc6b09e162",
   "metadata": {},
   "outputs": [
    {
     "name": "stdout",
     "output_type": "stream",
     "text": [
      "Mansion at 123 Luxury St costs $5000000 and has 15 rooms.\n"
     ]
    }
   ],
   "source": [
    "#18.Create a class House with attributes address and price. Create a derived class Mansion that adds an \n",
    "#attribute number_of_rooms\n",
    "class House:\n",
    "    def __init__(self, address, price):\n",
    "        self.address = address\n",
    "        self.price = price\n",
    "\n",
    "class Mansion(House):\n",
    "    def __init__(self, address, price, number_of_rooms):\n",
    "        super().__init__(address, price)\n",
    "        self.number_of_rooms = number_of_rooms\n",
    "\n",
    "m1 = Mansion(\"123 Luxury St\", 5000000, 15)\n",
    "print(f\"Mansion at {m1.address} costs ${m1.price} and has {m1.number_of_rooms} rooms.\")\n"
   ]
  },
  {
   "cell_type": "code",
   "execution_count": 174,
   "id": "a1c53bad-234a-4649-ba35-b10ffe364fed",
   "metadata": {},
   "outputs": [],
   "source": [
    "                                                     #Theoritical questions"
   ]
  },
  {
   "cell_type": "code",
   "execution_count": 250,
   "id": "f652f747-7fe6-40cc-ae71-7128c535fa7a",
   "metadata": {},
   "outputs": [
    {
     "data": {
      "text/plain": [
       "'\\nObject-Oriented Programming (OOP) is a programming paradigm that organizes software design around objects, which are instances of classes.\\nThese objects can contain both data (attributes or properties) and methods (functions\\xa0or\\xa0behaviors).\\n'"
      ]
     },
     "execution_count": 250,
     "metadata": {},
     "output_type": "execute_result"
    }
   ],
   "source": [
    "#1.What is Object-Oriented Programming (OOP)?\n",
    "'''\n",
    "Object-Oriented Programming (OOP) is a programming paradigm that organizes software design around objects, which are instances of classes.\n",
    "These objects can contain both data (attributes or properties) and methods (functions or behaviors).\n",
    "'''"
   ]
  },
  {
   "cell_type": "code",
   "execution_count": 252,
   "id": "077a1f04-e6e5-40a6-84b2-a3727aa575e3",
   "metadata": {},
   "outputs": [
    {
     "data": {
      "text/plain": [
       "'\\nIn Object-Oriented Programming (OOP), a class is a blueprint or template for creating objects. It defines the properties (data members) and behaviors\\n(member functions or methods) that objects of that class will have. Essentially, a class describes a group of objects with similar characteristics\\xa0and\\xa0actions.\\n'"
      ]
     },
     "execution_count": 252,
     "metadata": {},
     "output_type": "execute_result"
    }
   ],
   "source": [
    "#2.What is a class in OOP?\n",
    "'''\n",
    "In Object-Oriented Programming (OOP), a class is a blueprint or template for creating objects. It defines the properties (data members) and behaviors\n",
    "(member functions or methods) that objects of that class will have. Essentially, a class describes a group of objects with similar characteristics and actions.\n",
    "'''"
   ]
  },
  {
   "cell_type": "code",
   "execution_count": 254,
   "id": "be7891e1-ab81-454e-bb90-05c69b91ffcf",
   "metadata": {},
   "outputs": [
    {
     "data": {
      "text/plain": [
       "\"\\nIn Object-Oriented Programming (OOP), an object is a fundamental unit that encapsulates data and the code that operates on that data. \\nIt's essentially a real-world entity with specific characteristics (data) and behaviors (methods). Objects are created from classes, which act as templates\\xa0or\\xa0blueprints.\\n\""
      ]
     },
     "execution_count": 254,
     "metadata": {},
     "output_type": "execute_result"
    }
   ],
   "source": [
    "#3.What is an object in OOP?\n",
    "'''\n",
    "In Object-Oriented Programming (OOP), an object is a fundamental unit that encapsulates data and the code that operates on that data. \n",
    "It's essentially a real-world entity with specific characteristics (data) and behaviors (methods). Objects are created from classes, which act as templates or blueprints.\n",
    "'''"
   ]
  },
  {
   "cell_type": "code",
   "execution_count": 256,
   "id": "f1d2cfac-dffd-4cc6-9088-e6fe3611849e",
   "metadata": {},
   "outputs": [
    {
     "data": {
      "text/plain": [
       "'\\nAbstraction focuses on simplifying complex systems by exposing only the necessary functionality, while encapsulation bundles data and \\nmethods within a single unit, controlling access and ensuring data protection. In essence, abstraction deals with the \"what\" (the essential functionality), while encapsulation deals with the \"how\" (data and methods, and\\xa0their\\xa0access).\\n'"
      ]
     },
     "execution_count": 256,
     "metadata": {},
     "output_type": "execute_result"
    }
   ],
   "source": [
    "#4.What is the difference between abstraction and encapsulation?\n",
    "'''\n",
    "Abstraction focuses on simplifying complex systems by exposing only the necessary functionality, while encapsulation bundles data and \n",
    "methods within a single unit, controlling access and ensuring data protection. In essence, abstraction deals with the \"what\" (the essential functionality), while encapsulation deals with the \"how\" (data and methods, and their access).\n",
    "'''"
   ]
  },
  {
   "cell_type": "code",
   "execution_count": 260,
   "id": "dbc465a8-8bfc-45c9-8140-9358a2073547",
   "metadata": {},
   "outputs": [
    {
     "data": {
      "text/plain": [
       "'\\nAbstraction focuses on simplifying complex systems by exposing only the necessary functionality, while encapsulation bundles data and \\nmethods within a single unit, controlling access and ensuring data protection. In essence, abstraction deals with the \"what\" \\n(the essential functionality), while encapsulation deals with the \"how\" (data and methods, and\\xa0their\\xa0access).\\n'"
      ]
     },
     "execution_count": 260,
     "metadata": {},
     "output_type": "execute_result"
    }
   ],
   "source": [
    "#4.What is the difference between abstraction and encapsulation?\n",
    "'''\n",
    "Abstraction focuses on simplifying complex systems by exposing only the necessary functionality, while encapsulation bundles data and \n",
    "methods within a single unit, controlling access and ensuring data protection. In essence, abstraction deals with the \"what\" \n",
    "(the essential functionality), while encapsulation deals with the \"how\" (data and methods, and their access).\n",
    "'''"
   ]
  },
  {
   "cell_type": "code",
   "execution_count": 262,
   "id": "68520f8a-de94-4bbc-b3b0-3c574e29a98f",
   "metadata": {},
   "outputs": [
    {
     "data": {
      "text/plain": [
       "\"\\nDunder methods, also known as magic methods, are special methods in Python that begin and end with double underscores\\n(e.g., _init, __str, __len_). These methods enable custom classes to integrate with Python's built-in operations, such as printing,\\ncomparing,\\xa0and\\xa0arithmetic.\\n\""
      ]
     },
     "execution_count": 262,
     "metadata": {},
     "output_type": "execute_result"
    }
   ],
   "source": [
    "#5.What are dunder methods in python?\n",
    "'''\n",
    "Dunder methods, also known as magic methods, are special methods in Python that begin and end with double underscores\n",
    "(e.g., _init, __str, __len_). These methods enable custom classes to integrate with Python's built-in operations, such as printing,\n",
    "comparing, and arithmetic.\n",
    "'''"
   ]
  },
  {
   "cell_type": "code",
   "execution_count": 264,
   "id": "2db075c2-9ce7-4725-8e33-8beb55682f3e",
   "metadata": {},
   "outputs": [
    {
     "data": {
      "text/plain": [
       "'\\nIn Object-Oriented Programming (OOP), inheritance is a mechanism that allows a class (the \"child\" or \"subclass\") to inherit properties\\nand methods from another class (the \"parent\" or \"superclass\"). This promotes code reusability and hierarchical organization of classes, \\nmaking it easier to create complex and well-structured\\xa0applications.\\n'"
      ]
     },
     "execution_count": 264,
     "metadata": {},
     "output_type": "execute_result"
    }
   ],
   "source": [
    "#6.Explain the concept of inheritance in OOP?\n",
    "'''\n",
    "In Object-Oriented Programming (OOP), inheritance is a mechanism that allows a class (the \"child\" or \"subclass\") to inherit properties\n",
    "and methods from another class (the \"parent\" or \"superclass\"). This promotes code reusability and hierarchical organization of classes, \n",
    "making it easier to create complex and well-structured applications.\n",
    "'''"
   ]
  },
  {
   "cell_type": "code",
   "execution_count": 266,
   "id": "c3d27b07-e086-484b-b0a2-3f7c8ce506b9",
   "metadata": {},
   "outputs": [
    {
     "data": {
      "text/plain": [
       "'\\nIn Object-Oriented Programming (OOP), polymorphism, meaning \"many forms,\" allows objects of different classes to be treated as\\nobjects of a common superclass, enabling flexible code reuse and different implementations of the same method. It\\'s a key principle\\nthat enhances software design and\\xa0maintenance.\\n'"
      ]
     },
     "execution_count": 266,
     "metadata": {},
     "output_type": "execute_result"
    }
   ],
   "source": [
    "#7.what is polymorphism in OOP?\n",
    "'''\n",
    "In Object-Oriented Programming (OOP), polymorphism, meaning \"many forms,\" allows objects of different classes to be treated as\n",
    "objects of a common superclass, enabling flexible code reuse and different implementations of the same method. It's a key principle\n",
    "that enhances software design and maintenance.\n",
    "'''"
   ]
  },
  {
   "cell_type": "code",
   "execution_count": 268,
   "id": "71a2e3be-0a09-441a-a1e4-d44da741abc9",
   "metadata": {},
   "outputs": [
    {
     "data": {
      "text/plain": [
       "\"\\nEncapsulation in object-oriented programming (OOP) is achieved by bundling data (attributes) and the methods (functions) that\\noperate on that data into a single unit, typically a class. This helps to protect the data and the class's internal workings from \\noutside interference, controlling access and ensuring\\xa0data\\xa0integrity.\\n\""
      ]
     },
     "execution_count": 268,
     "metadata": {},
     "output_type": "execute_result"
    }
   ],
   "source": [
    "#8.How is encapsulation achieved in OOP?\n",
    "'''\n",
    "Encapsulation in object-oriented programming (OOP) is achieved by bundling data (attributes) and the methods (functions) that\n",
    "operate on that data into a single unit, typically a class. This helps to protect the data and the class's internal workings from \n",
    "outside interference, controlling access and ensuring data integrity.\n",
    "'''"
   ]
  },
  {
   "cell_type": "code",
   "execution_count": 270,
   "id": "7431cf37-dd21-4508-a9a3-1ee9fc7c89f8",
   "metadata": {},
   "outputs": [
    {
     "data": {
      "text/plain": [
       "\"\\nA constructor in Python is a special method used to initialize objects of a class. It is automatically called when an object is created. \\nThe primary constructor in Python is named _init_. It's defined within a class and takes the instance of the class (self) as its\\nfirst parameter, followed by any other arguments needed to initialize\\xa0the\\xa0object.\\n\""
      ]
     },
     "execution_count": 270,
     "metadata": {},
     "output_type": "execute_result"
    }
   ],
   "source": [
    "#9.What is a constructor in Python?\n",
    "'''\n",
    "A constructor in Python is a special method used to initialize objects of a class. It is automatically called when an object is created. \n",
    "The primary constructor in Python is named _init_. It's defined within a class and takes the instance of the class (self) as its\n",
    "first parameter, followed by any other arguments needed to initialize the object.\n",
    "'''"
   ]
  },
  {
   "cell_type": "code",
   "execution_count": 272,
   "id": "99f3f3bd-137b-4431-94dd-52a11420b729",
   "metadata": {},
   "outputs": [
    {
     "data": {
      "text/plain": [
       "\"\\nA class method is a method that is bound to the class and not the instance of the class. It receives the class itself as the first argument,\\nconventionally named cls. This allows it to access and modify class-level attributes. Class methods are often used as factory methods to create\\ninstances of the class or to perform operations that are related to the class itself, rather than to a specific instance. They are defined using \\nthe @classmethod decorator.\\nStatic Method:\\nA static method is a method that is bound to the class but does not have access to the class or instance state. It does not receive the\\nclass or instance as the first argument. Static methods are essentially like regular functions that belong to the class's namespace. They\\nare used for utility functions that do not depend on the class or instance data. They are defined using the @staticmethod\\xa0decorator.\\n\""
      ]
     },
     "execution_count": 272,
     "metadata": {},
     "output_type": "execute_result"
    }
   ],
   "source": [
    "#10.What are class and static methods in Python?\n",
    "'''\n",
    "A class method is a method that is bound to the class and not the instance of the class. It receives the class itself as the first argument,\n",
    "conventionally named cls. This allows it to access and modify class-level attributes. Class methods are often used as factory methods to create\n",
    "instances of the class or to perform operations that are related to the class itself, rather than to a specific instance. They are defined using \n",
    "the @classmethod decorator.\n",
    "Static Method:\n",
    "A static method is a method that is bound to the class but does not have access to the class or instance state. It does not receive the\n",
    "class or instance as the first argument. Static methods are essentially like regular functions that belong to the class's namespace. They\n",
    "are used for utility functions that do not depend on the class or instance data. They are defined using the @staticmethod decorator.\n",
    "'''"
   ]
  },
  {
   "cell_type": "code",
   "execution_count": 276,
   "id": "b2bd873a-243e-4d1e-b1ea-5b720ae33aa6",
   "metadata": {},
   "outputs": [
    {
     "data": {
      "text/plain": [
       "'\\nThe concept of method overloading in Python refers to the ability to define multiple methods of the same name, but with different\\nparameters. In many object-oriented programming languages, overloading is used to create different implementations of a method, depending\\non the number or type of arguments\\xa0passed.\\n'"
      ]
     },
     "execution_count": 276,
     "metadata": {},
     "output_type": "execute_result"
    }
   ],
   "source": [
    "#11.What is method overloading in Python?\n",
    "'''\n",
    "The concept of method overloading in Python refers to the ability to define multiple methods of the same name, but with different\n",
    "parameters. In many object-oriented programming languages, overloading is used to create different implementations of a method, depending\n",
    "on the number or type of arguments passed.\n",
    "'''"
   ]
  },
  {
   "cell_type": "code",
   "execution_count": 278,
   "id": "d8aa78f9-959b-489d-8987-246a0244ac19",
   "metadata": {},
   "outputs": [
    {
     "data": {
      "text/plain": [
       "'\\nIn Object-Oriented Programming (OOP), method overriding allows a subclass to provide a specific implementation of a method that is\\nalready defined in its superclass. This enables the subclass to modify or extend the behavior of the inherited method while maintaining \\nthe same method signature (name and\\xa0parameters).\\n'"
      ]
     },
     "execution_count": 278,
     "metadata": {},
     "output_type": "execute_result"
    }
   ],
   "source": [
    "#12.What is method overriding in OOP?\n",
    "'''\n",
    "In Object-Oriented Programming (OOP), method overriding allows a subclass to provide a specific implementation of a method that is\n",
    "already defined in its superclass. This enables the subclass to modify or extend the behavior of the inherited method while maintaining \n",
    "the same method signature (name and parameters).\n",
    "'''"
   ]
  },
  {
   "cell_type": "code",
   "execution_count": 280,
   "id": "b7b3453f-6baf-4af4-bf49-aed91444e43a",
   "metadata": {},
   "outputs": [
    {
     "data": {
      "text/plain": [
       "'\\nThe @property decorator in Python is a built-in feature that allows you to define methods that can be accessed like attributes. This\\nprovides a way to manage attribute access and modification, adding logic to the process, such as validation or computation, without\\nchanging how the attribute\\xa0is\\xa0accessed.\\n'"
      ]
     },
     "execution_count": 280,
     "metadata": {},
     "output_type": "execute_result"
    }
   ],
   "source": [
    "#13.What is a property decorator in Python?\n",
    "'''\n",
    "The @property decorator in Python is a built-in feature that allows you to define methods that can be accessed like attributes. This\n",
    "provides a way to manage attribute access and modification, adding logic to the process, such as validation or computation, without\n",
    "changing how the attribute is accessed.\n",
    "'''"
   ]
  },
  {
   "cell_type": "code",
   "execution_count": 282,
   "id": "022381a3-b579-4506-b7c2-58b246a2771a",
   "metadata": {},
   "outputs": [
    {
     "data": {
      "text/plain": [
       "\"\\nPolymorphism is crucial in OOP because it enables code reuse, flexibility, and maintainability. It allows different objects to share\\nthe same interface while having their own specific behaviors. This is achieved through inheritance, where subclasses inherit from a \\nsuperclass or base class, and can then implement methods in a way that's\\xa0unique\\xa0to\\xa0them.\\n\""
      ]
     },
     "execution_count": 282,
     "metadata": {},
     "output_type": "execute_result"
    }
   ],
   "source": [
    "#14.Why is polymorphism important in OOP?\n",
    "'''\n",
    "Polymorphism is crucial in OOP because it enables code reuse, flexibility, and maintainability. It allows different objects to share\n",
    "the same interface while having their own specific behaviors. This is achieved through inheritance, where subclasses inherit from a \n",
    "superclass or base class, and can then implement methods in a way that's unique to them.\n",
    "'''"
   ]
  },
  {
   "cell_type": "code",
   "execution_count": 284,
   "id": "3d3b5477-f96f-4986-9cab-4e957c1d148b",
   "metadata": {},
   "outputs": [
    {
     "data": {
      "text/plain": [
       "'\\nIn Python, an abstract class is a class that cannot be instantiated directly. It serves as a blueprint for other classes, defining\\na common interface that subclasses must adhere to. Abstract classes are created using the abc module and the ABC class. They can contain\\nabstract methods, which are declared but not implemented in the abstract class, forcing subclasses to provide their own implementations.\\n'"
      ]
     },
     "execution_count": 284,
     "metadata": {},
     "output_type": "execute_result"
    }
   ],
   "source": [
    "#15.What is an abstract class in Python?\n",
    "'''\n",
    "In Python, an abstract class is a class that cannot be instantiated directly. It serves as a blueprint for other classes, defining\n",
    "a common interface that subclasses must adhere to. Abstract classes are created using the abc module and the ABC class. They can contain\n",
    "abstract methods, which are declared but not implemented in the abstract class, forcing subclasses to provide their own implementations.\n",
    "'''"
   ]
  },
  {
   "cell_type": "code",
   "execution_count": 286,
   "id": "834b8887-a95b-4a68-9051-d1954c38c428",
   "metadata": {},
   "outputs": [
    {
     "data": {
      "text/plain": [
       "'\\nObject-oriented programming (OOP) offers numerous advantages over other programming paradigms, including enhanced code organization,\\nreusability, and maintainability. It facilitates modularity, making code easier to understand, debug, and modify. OOP also promotes\\ncode reuse through inheritance and polymorphism, leading to increased efficiency and\\xa0productivity.\\n'"
      ]
     },
     "execution_count": 286,
     "metadata": {},
     "output_type": "execute_result"
    }
   ],
   "source": [
    "#16.What are the advantages of OOP?\n",
    "'''\n",
    "Object-oriented programming (OOP) offers numerous advantages over other programming paradigms, including enhanced code organization,\n",
    "reusability, and maintainability. It facilitates modularity, making code easier to understand, debug, and modify. OOP also promotes\n",
    "code reuse through inheritance and polymorphism, leading to increased efficiency and productivity.\n",
    "'''"
   ]
  },
  {
   "cell_type": "code",
   "execution_count": 288,
   "id": "f9432a9a-1780-42fb-9216-66d35a45b82b",
   "metadata": {},
   "outputs": [
    {
     "data": {
      "text/plain": [
       "\"\\nIn programming, a class variable is a shared variable across all instances (objects) of a class, while an instance variable is unique to\\neach individual instance. Class variables are declared within the class definition, not inside any method, and they exist for the duration\\nof the class's existence. Instance variables, on the other hand, are associated with each specific object created from the class and are\\ninitialized during object\\xa0creation.\\n\""
      ]
     },
     "execution_count": 288,
     "metadata": {},
     "output_type": "execute_result"
    }
   ],
   "source": [
    "#17.What is the difference between a class variable and an instance variable?\n",
    "'''\n",
    "In programming, a class variable is a shared variable across all instances (objects) of a class, while an instance variable is unique to\n",
    "each individual instance. Class variables are declared within the class definition, not inside any method, and they exist for the duration\n",
    "of the class's existence. Instance variables, on the other hand, are associated with each specific object created from the class and are\n",
    "initialized during object creation.\n",
    "'''"
   ]
  },
  {
   "cell_type": "code",
   "execution_count": 290,
   "id": "3c6171bb-bd6e-4c28-ae73-a704f07a73bd",
   "metadata": {},
   "outputs": [
    {
     "data": {
      "text/plain": [
       "'\\nMultiple inheritance in Python is a feature that allows a class to inherit attributes and methods from more than one parent class. \\nThis means that a single child class can combine the characteristics of multiple\\xa0parent\\xa0classes.\\n'"
      ]
     },
     "execution_count": 290,
     "metadata": {},
     "output_type": "execute_result"
    }
   ],
   "source": [
    "#18.What is multiple inheritance in Python?\n",
    "'''\n",
    "Multiple inheritance in Python is a feature that allows a class to inherit attributes and methods from more than one parent class. \n",
    "This means that a single child class can combine the characteristics of multiple parent classes.\n",
    "'''"
   ]
  },
  {
   "cell_type": "code",
   "execution_count": 236,
   "id": "1b9d24cf-aa8d-4ba1-95d9-2a884b8268ce",
   "metadata": {},
   "outputs": [
    {
     "data": {
      "text/plain": [
       "'\\n_str_ and _repr_ are special methods in Python used to provide string representations of objects.\\n_str_\\nIt aims to return a user-friendly, informal, or readable string representation of an object.\\nIt is called by the built-in str() function and when using print() on an object.\\n_repr_\\nIt aims to return an unambiguous, formal, and information-rich string representation of an object.\\nIt is called by the built-in repr() function and when an object is displayed in the interactive\\xa0interpreter.\\n'"
      ]
     },
     "execution_count": 236,
     "metadata": {},
     "output_type": "execute_result"
    }
   ],
   "source": [
    "#19.Explain the purpose of ‘’_str’ and ‘repr_’ ‘ methods in Python.'''\n",
    "'''\n",
    "_str_ and _repr_ are special methods in Python used to provide string representations of objects.\n",
    "_str_\n",
    "It aims to return a user-friendly, informal, or readable string representation of an object.\n",
    "It is called by the built-in str() function and when using print() on an object.\n",
    "_repr_\n",
    "It aims to return an unambiguous, formal, and information-rich string representation of an object.\n",
    "It is called by the built-in repr() function and when an object is displayed in the interactive interpreter.\n",
    "'''"
   ]
  },
  {
   "cell_type": "code",
   "execution_count": 292,
   "id": "c6313c19-7760-4cac-8e72-33c8ac930c9a",
   "metadata": {},
   "outputs": [
    {
     "data": {
      "text/plain": [
       "\"\\nThe super() function in Python is used to access methods and properties of a parent class from within a child class. \\nIt's a crucial tool for implementing inheritance, a fundamental concept in object-oriented\\xa0programming.\\n\""
      ]
     },
     "execution_count": 292,
     "metadata": {},
     "output_type": "execute_result"
    }
   ],
   "source": [
    "#20.What is the significance of the ‘super()’ function in Python?\n",
    "'''\n",
    "The super() function in Python is used to access methods and properties of a parent class from within a child class. \n",
    "It's a crucial tool for implementing inheritance, a fundamental concept in object-oriented programming.\n",
    "'''"
   ]
  },
  {
   "cell_type": "code",
   "execution_count": 294,
   "id": "2c893873-8a14-4068-acd2-89ac51ec9f90",
   "metadata": {},
   "outputs": [
    {
     "data": {
      "text/plain": [
       "\"\\nThe _del_ method in Python is a special method, often referred to as a destructor. It is automatically called when \\nan object is about to be destroyed. This usually occurs when an object's reference count drops to zero, indicating that it's no\\nlonger in use and is eligible for garbage\\xa0collection.\\n\""
      ]
     },
     "execution_count": 294,
     "metadata": {},
     "output_type": "execute_result"
    }
   ],
   "source": [
    "#21.What is the significance of the _del_ method in Python?\n",
    "'''\n",
    "The _del_ method in Python is a special method, often referred to as a destructor. It is automatically called when \n",
    "an object is about to be destroyed. This usually occurs when an object's reference count drops to zero, indicating that it's no\n",
    "longer in use and is eligible for garbage collection.\n",
    "'''"
   ]
  },
  {
   "cell_type": "code",
   "execution_count": 296,
   "id": "70ba02e8-1467-432b-a125-4a42491dc28f",
   "metadata": {},
   "outputs": [
    {
     "data": {
      "text/plain": [
       "'\\nA @staticmethod is essentially a function that is defined inside a class but does not have access to the class or instance.\\nIt behaves like a regular function, but it is logically grouped with the class. It does not receive the class or instance as its first argument.\\nOn the other hand, a @classmethod receives the class itself as its first argument, conventionally named cls. This allows the method to access and modify\\nclass-level attributes and methods. It is often used for creating factory methods or alternative\\xa0constructors.\\n'"
      ]
     },
     "execution_count": 296,
     "metadata": {},
     "output_type": "execute_result"
    }
   ],
   "source": [
    "#22.What is the difference between @staticmethod and @classmethod in Python?\n",
    "'''\n",
    "A @staticmethod is essentially a function that is defined inside a class but does not have access to the class or instance.\n",
    "It behaves like a regular function, but it is logically grouped with the class. It does not receive the class or instance as its first argument.\n",
    "On the other hand, a @classmethod receives the class itself as its first argument, conventionally named cls. This allows the method to access and modify\n",
    "class-level attributes and methods. It is often used for creating factory methods or alternative constructors.\n",
    "'''"
   ]
  },
  {
   "cell_type": "code",
   "execution_count": 298,
   "id": "27dd74f7-5a56-4eea-bf37-7d9d165cb181",
   "metadata": {},
   "outputs": [
    {
     "data": {
      "text/plain": [
       "'\\nPolymorphism, meaning \"many forms,\" allows objects of different classes to respond to the same method call in their own specific ways. \\nIn Python, this is achieved through inheritance and method\\xa0overriding.\\n'"
      ]
     },
     "execution_count": 298,
     "metadata": {},
     "output_type": "execute_result"
    }
   ],
   "source": [
    "#23.How does polymorphism work in Python with inheritance?\n",
    "'''\n",
    "Polymorphism, meaning \"many forms,\" allows objects of different classes to respond to the same method call in their own specific ways. \n",
    "In Python, this is achieved through inheritance and method overriding.\n",
    "'''"
   ]
  },
  {
   "cell_type": "code",
   "execution_count": 300,
   "id": "bd1bc5af-119d-4c32-a119-dd47e7168b31",
   "metadata": {},
   "outputs": [
    {
     "data": {
      "text/plain": [
       "'\\nMethod chaining in Python is a technique that allows you to call multiple methods on the same object in a single line of code.\\nEach method in the chain returns the object itself, allowing the next method to be called immediately. This approach enhances \\ncode readability and conciseness by eliminating the need for intermediate\\xa0variables.\\n'"
      ]
     },
     "execution_count": 300,
     "metadata": {},
     "output_type": "execute_result"
    }
   ],
   "source": [
    "#24.What is method chaining in Python OOP?\n",
    "'''\n",
    "Method chaining in Python is a technique that allows you to call multiple methods on the same object in a single line of code.\n",
    "Each method in the chain returns the object itself, allowing the next method to be called immediately. This approach enhances \n",
    "code readability and conciseness by eliminating the need for intermediate variables.\n",
    "'''"
   ]
  },
  {
   "cell_type": "code",
   "execution_count": 302,
   "id": "10c5f64a-dc3c-4a11-969b-71bc7f7a75d5",
   "metadata": {},
   "outputs": [
    {
     "data": {
      "text/plain": [
       "'\\nThe _call_ method in Python allows instances of a class to be called as if they were functions. When an instance of a class is called \\nusing parentheses, the _call_ method of that instance is executed. This provides a way to make objects behave like functions, enabling\\nmore flexible and\\xa0reusable\\xa0code.\\n'"
      ]
     },
     "execution_count": 302,
     "metadata": {},
     "output_type": "execute_result"
    }
   ],
   "source": [
    "#25.What is the purpose of the _call_ method in Python?\n",
    "'''\n",
    "The _call_ method in Python allows instances of a class to be called as if they were functions. When an instance of a class is called \n",
    "using parentheses, the _call_ method of that instance is executed. This provides a way to make objects behave like functions, enabling\n",
    "more flexible and reusable code.\n",
    "'''"
   ]
  },
  {
   "cell_type": "code",
   "execution_count": null,
   "id": "81ed3feb-1e47-49af-8817-9ac9713a4fe9",
   "metadata": {},
   "outputs": [],
   "source": []
  }
 ],
 "metadata": {
  "kernelspec": {
   "display_name": "Python [conda env:base] *",
   "language": "python",
   "name": "conda-base-py"
  },
  "language_info": {
   "codemirror_mode": {
    "name": "ipython",
    "version": 3
   },
   "file_extension": ".py",
   "mimetype": "text/x-python",
   "name": "python",
   "nbconvert_exporter": "python",
   "pygments_lexer": "ipython3",
   "version": "3.12.7"
  }
 },
 "nbformat": 4,
 "nbformat_minor": 5
}
